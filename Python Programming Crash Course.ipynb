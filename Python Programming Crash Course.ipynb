{
 "cells": [
  {
   "cell_type": "markdown",
   "id": "3af185f2",
   "metadata": {},
   "source": [
    "# Chapter 1 - First Python Programming"
   ]
  },
  {
   "cell_type": "markdown",
   "id": "2165b6e9",
   "metadata": {},
   "source": [
    "## 1.1 Hello World"
   ]
  },
  {
   "cell_type": "code",
   "execution_count": 45,
   "id": "ea9cedcb",
   "metadata": {},
   "outputs": [
    {
     "name": "stdout",
     "output_type": "stream",
     "text": [
      "55\n"
     ]
    }
   ],
   "source": [
    "print(55)"
   ]
  },
  {
   "cell_type": "markdown",
   "id": "f4c83b9b",
   "metadata": {},
   "source": [
    "### Use single quotes to print strings"
   ]
  },
  {
   "cell_type": "markdown",
   "id": "0c002f6c",
   "metadata": {},
   "source": [
    "### Can also use double and triple quotes here"
   ]
  },
  {
   "cell_type": "code",
   "execution_count": 46,
   "id": "41f5e9d2",
   "metadata": {},
   "outputs": [
    {
     "ename": "SyntaxError",
     "evalue": "invalid syntax (4293340409.py, line 1)",
     "output_type": "error",
     "traceback": [
      "\u001b[1;36m  Input \u001b[1;32mIn [46]\u001b[1;36m\u001b[0m\n\u001b[1;33m    print(Hello World)\u001b[0m\n\u001b[1;37m                ^\u001b[0m\n\u001b[1;31mSyntaxError\u001b[0m\u001b[1;31m:\u001b[0m invalid syntax\n"
     ]
    }
   ],
   "source": [
    "print(Hello World)"
   ]
  },
  {
   "cell_type": "code",
   "execution_count": 47,
   "id": "1f1d09c0",
   "metadata": {},
   "outputs": [
    {
     "name": "stdout",
     "output_type": "stream",
     "text": [
      "Hello World\n"
     ]
    }
   ],
   "source": [
    "print('Hello World')"
   ]
  },
  {
   "cell_type": "markdown",
   "id": "70af48f2",
   "metadata": {},
   "source": [
    "### Use double quotes if there are single quotes used in the string"
   ]
  },
  {
   "cell_type": "code",
   "execution_count": 48,
   "id": "5c93eddd",
   "metadata": {},
   "outputs": [
    {
     "ename": "SyntaxError",
     "evalue": "invalid syntax (2592135577.py, line 1)",
     "output_type": "error",
     "traceback": [
      "\u001b[1;36m  Input \u001b[1;32mIn [48]\u001b[1;36m\u001b[0m\n\u001b[1;33m    print('John's Notebook')\u001b[0m\n\u001b[1;37m                ^\u001b[0m\n\u001b[1;31mSyntaxError\u001b[0m\u001b[1;31m:\u001b[0m invalid syntax\n"
     ]
    }
   ],
   "source": [
    "print('John's Notebook')"
   ]
  },
  {
   "cell_type": "code",
   "execution_count": 49,
   "id": "98be0309",
   "metadata": {},
   "outputs": [
    {
     "name": "stdout",
     "output_type": "stream",
     "text": [
      "John's Notebook\n"
     ]
    }
   ],
   "source": [
    "print(\"John's Notebook\")"
   ]
  },
  {
   "cell_type": "markdown",
   "id": "b8b626b3",
   "metadata": {},
   "source": [
    "### Use triple double quotes if there are double quotes in the string"
   ]
  },
  {
   "cell_type": "code",
   "execution_count": 50,
   "id": "8709ce26",
   "metadata": {},
   "outputs": [
    {
     "ename": "SyntaxError",
     "evalue": "invalid syntax (466259352.py, line 1)",
     "output_type": "error",
     "traceback": [
      "\u001b[1;36m  Input \u001b[1;32mIn [50]\u001b[1;36m\u001b[0m\n\u001b[1;33m    print(\"He said,\"John's Notebook\".\")\u001b[0m\n\u001b[1;37m                    ^\u001b[0m\n\u001b[1;31mSyntaxError\u001b[0m\u001b[1;31m:\u001b[0m invalid syntax\n"
     ]
    }
   ],
   "source": [
    "print(\"He said,\"John's Notebook\".\")"
   ]
  },
  {
   "cell_type": "code",
   "execution_count": 51,
   "id": "47502043",
   "metadata": {},
   "outputs": [
    {
     "name": "stdout",
     "output_type": "stream",
     "text": [
      "He said,\"John's Notebook\".\n"
     ]
    }
   ],
   "source": [
    "print(\"\"\"He said,\"John's Notebook\".\"\"\")"
   ]
  },
  {
   "cell_type": "markdown",
   "id": "baeb4954",
   "metadata": {},
   "source": [
    "###  Use triple Double quotes for paragraphs"
   ]
  },
  {
   "cell_type": "code",
   "execution_count": 52,
   "id": "3084dec1",
   "metadata": {},
   "outputs": [
    {
     "name": "stdout",
     "output_type": "stream",
     "text": [
      "khffhfhsfkhjknklfhshkhlhjhhhhhhhhhhhhhhhhhhhhhhhhhhhhhhhhhhhhhhhhhhhh\n",
      "      bbbbbbbbbbbbbbbbbbbbbbbbbbbbbbbbbbbbbbbbbbbbbbbbbbbbbbbbbbbbbbbbb\n",
      "      fgfffffffffffffffffffffffffffffffffffffffffff\n",
      "      dddddddddddddddddd dddddddddddd sdddddddddddddddddddddddddddddd\n",
      "      dggggggggggggggggggggggggggggggg gggggggggg\n"
     ]
    }
   ],
   "source": [
    "print(\"\"\"khffhfhsfkhjknklfhshkhlhjhhhhhhhhhhhhhhhhhhhhhhhhhhhhhhhhhhhhhhhhhhhh\n",
    "      bbbbbbbbbbbbbbbbbbbbbbbbbbbbbbbbbbbbbbbbbbbbbbbbbbbbbbbbbbbbbbbbb\n",
    "      fgfffffffffffffffffffffffffffffffffffffffffff\n",
    "      dddddddddddddddddd dddddddddddd sdddddddddddddddddddddddddddddd\n",
    "      dggggggggggggggggggggggggggggggg gggggggggg\"\"\")"
   ]
  },
  {
   "cell_type": "markdown",
   "id": "77afc293",
   "metadata": {},
   "source": [
    "## 1.2 Create a Variable"
   ]
  },
  {
   "cell_type": "code",
   "execution_count": 53,
   "id": "7b2a4778",
   "metadata": {},
   "outputs": [
    {
     "data": {
      "text/plain": [
       "['Ashok', 'Bhanu', 'Chetan']"
      ]
     },
     "execution_count": 53,
     "metadata": {},
     "output_type": "execute_result"
    }
   ],
   "source": [
    "Participants = ['Ashok','Bhanu','Chetan']                                           #List[], Tuple(), Dictionariy{}\n",
    "Participants"
   ]
  },
  {
   "cell_type": "code",
   "execution_count": null,
   "id": "a0be2d79",
   "metadata": {},
   "outputs": [],
   "source": []
  },
  {
   "cell_type": "code",
   "execution_count": 54,
   "id": "a05d8214",
   "metadata": {},
   "outputs": [
    {
     "data": {
      "text/plain": [
       "3"
      ]
     },
     "execution_count": 54,
     "metadata": {},
     "output_type": "execute_result"
    }
   ],
   "source": [
    "len(Participants)                                                                   # No. of participants"
   ]
  },
  {
   "cell_type": "code",
   "execution_count": 55,
   "id": "b70083d6",
   "metadata": {},
   "outputs": [
    {
     "data": {
      "text/plain": [
       "['Ashok', 'Bhanu', 'Chetan']"
      ]
     },
     "execution_count": 55,
     "metadata": {},
     "output_type": "execute_result"
    }
   ],
   "source": [
    "Participants[:]                                                                     # DATA SLICING USE SQUARE BRACKETS[:]"
   ]
  },
  {
   "cell_type": "code",
   "execution_count": 56,
   "id": "5b9f3b50",
   "metadata": {},
   "outputs": [
    {
     "data": {
      "text/plain": [
       "['Bhanu']"
      ]
     },
     "execution_count": 56,
     "metadata": {},
     "output_type": "execute_result"
    }
   ],
   "source": [
    "Participants[1:2]                                                                   # Index starts with 0  \n",
    "                                                                                    # (1 IS PRINTED AND NOT 2 i.e., < 2)"
   ]
  },
  {
   "cell_type": "code",
   "execution_count": 57,
   "id": "2549d3f7",
   "metadata": {},
   "outputs": [
    {
     "data": {
      "text/plain": [
       "['Ashok', 'Venkat', 'Chetan']"
      ]
     },
     "execution_count": 57,
     "metadata": {},
     "output_type": "execute_result"
    }
   ],
   "source": [
    "Participants[1] = 'Venkat'                                                           # UPDATING AN ELEMENT\n",
    "Participants"
   ]
  },
  {
   "cell_type": "markdown",
   "id": "7df0c869",
   "metadata": {},
   "source": [
    "# ========================================================= "
   ]
  },
  {
   "cell_type": "markdown",
   "id": "c38193ba",
   "metadata": {},
   "source": [
    "# Chapter 2 - String and String Methods"
   ]
  },
  {
   "cell_type": "markdown",
   "id": "1a446b7d",
   "metadata": {},
   "source": [
    "### 3 Data Types in Python:\n",
    "\n",
    "1. Integer - int\n",
    "2. Float   - float\n",
    "3. String  - str"
   ]
  },
  {
   "cell_type": "markdown",
   "id": "05149081",
   "metadata": {},
   "source": [
    "## What is a String?"
   ]
  },
  {
   "cell_type": "code",
   "execution_count": 58,
   "id": "a44a8534",
   "metadata": {},
   "outputs": [],
   "source": [
    "score = '99.5'"
   ]
  },
  {
   "cell_type": "code",
   "execution_count": 59,
   "id": "068caca0",
   "metadata": {},
   "outputs": [
    {
     "data": {
      "text/plain": [
       "str"
      ]
     },
     "execution_count": 59,
     "metadata": {},
     "output_type": "execute_result"
    }
   ],
   "source": [
    "type(score)                                                                           # SINGLE QUOTE STATES THAT IT IS A STRING"
   ]
  },
  {
   "cell_type": "markdown",
   "id": "c7b42519",
   "metadata": {},
   "source": [
    "## 2.2 Concatenation - Indexing - Slicing"
   ]
  },
  {
   "cell_type": "code",
   "execution_count": 60,
   "id": "d00318ac",
   "metadata": {},
   "outputs": [],
   "source": [
    "first_name = 'Giriganuru'\n",
    "last_name  = 'Bhanukiran'\n",
    "age = 25"
   ]
  },
  {
   "cell_type": "code",
   "execution_count": 61,
   "id": "c4b2e984",
   "metadata": {},
   "outputs": [
    {
     "name": "stdout",
     "output_type": "stream",
     "text": [
      "Giriganuru\n",
      "Bhanukiran\n"
     ]
    }
   ],
   "source": [
    "print(first_name)\n",
    "print(last_name)"
   ]
  },
  {
   "cell_type": "code",
   "execution_count": 62,
   "id": "4adaf032",
   "metadata": {},
   "outputs": [
    {
     "data": {
      "text/plain": [
       "('Giriganuru', 'Bhanukiran')"
      ]
     },
     "execution_count": 62,
     "metadata": {},
     "output_type": "execute_result"
    }
   ],
   "source": [
    "first_name, last_name"
   ]
  },
  {
   "cell_type": "code",
   "execution_count": 63,
   "id": "a672013e",
   "metadata": {},
   "outputs": [
    {
     "name": "stdout",
     "output_type": "stream",
     "text": [
      "GiriganuruBhanukiran\n"
     ]
    }
   ],
   "source": [
    "print(first_name + last_name)"
   ]
  },
  {
   "cell_type": "code",
   "execution_count": 64,
   "id": "9158e1ab",
   "metadata": {},
   "outputs": [
    {
     "ename": "SyntaxError",
     "evalue": "invalid syntax (1157504065.py, line 1)",
     "output_type": "error",
     "traceback": [
      "\u001b[1;36m  Input \u001b[1;32mIn [64]\u001b[1;36m\u001b[0m\n\u001b[1;33m    print(first_name + ' 'last_name)\u001b[0m\n\u001b[1;37m                          ^\u001b[0m\n\u001b[1;31mSyntaxError\u001b[0m\u001b[1;31m:\u001b[0m invalid syntax\n"
     ]
    }
   ],
   "source": [
    "print(first_name + ' 'last_name)"
   ]
  },
  {
   "cell_type": "code",
   "execution_count": 65,
   "id": "587fc7e2",
   "metadata": {},
   "outputs": [
    {
     "name": "stdout",
     "output_type": "stream",
     "text": [
      "Giriganuru Bhanukiran\n"
     ]
    }
   ],
   "source": [
    "print(first_name + ' ' + last_name)"
   ]
  },
  {
   "cell_type": "code",
   "execution_count": 66,
   "id": "78d67a64",
   "metadata": {},
   "outputs": [
    {
     "ename": "TypeError",
     "evalue": "can only concatenate str (not \"int\") to str",
     "output_type": "error",
     "traceback": [
      "\u001b[1;31m---------------------------------------------------------------------------\u001b[0m",
      "\u001b[1;31mTypeError\u001b[0m                                 Traceback (most recent call last)",
      "Input \u001b[1;32mIn [66]\u001b[0m, in \u001b[0;36m<cell line: 1>\u001b[1;34m()\u001b[0m\n\u001b[1;32m----> 1\u001b[0m \u001b[38;5;28mprint\u001b[39m(\u001b[43mfirst_name\u001b[49m\u001b[43m \u001b[49m\u001b[38;5;241;43m+\u001b[39;49m\u001b[43m \u001b[49m\u001b[38;5;124;43m'\u001b[39;49m\u001b[38;5;124;43m \u001b[39;49m\u001b[38;5;124;43m'\u001b[39;49m\u001b[43m \u001b[49m\u001b[38;5;241;43m+\u001b[39;49m\u001b[43m \u001b[49m\u001b[43mlast_name\u001b[49m\u001b[43m \u001b[49m\u001b[38;5;241;43m+\u001b[39;49m\u001b[43m \u001b[49m\u001b[38;5;124;43m'\u001b[39;49m\u001b[38;5;124;43m \u001b[39;49m\u001b[38;5;124;43m'\u001b[39;49m\u001b[43m \u001b[49m\u001b[38;5;241;43m+\u001b[39;49m\u001b[43m \u001b[49m\u001b[43mage\u001b[49m)\n",
      "\u001b[1;31mTypeError\u001b[0m: can only concatenate str (not \"int\") to str"
     ]
    }
   ],
   "source": [
    "print(first_name + ' ' + last_name + ' ' + age)                                 # CONCATENATE IS FOR ONLY SIMILAR DATA TYPES"
   ]
  },
  {
   "cell_type": "code",
   "execution_count": 67,
   "id": "d10dbc1a",
   "metadata": {},
   "outputs": [
    {
     "name": "stdout",
     "output_type": "stream",
     "text": [
      "Giriganuru Bhanukiran 25\n"
     ]
    }
   ],
   "source": [
    "print(first_name + ' ' + last_name + ' ' + str(age))                            # TYPE CASTING - CONVERTING DATA TYPES"
   ]
  },
  {
   "cell_type": "code",
   "execution_count": 68,
   "id": "ba46fabd",
   "metadata": {},
   "outputs": [
    {
     "name": "stdout",
     "output_type": "stream",
     "text": [
      "Giriganuru Bhanukiran 25\n"
     ]
    }
   ],
   "source": [
    "print(first_name, last_name, age)                                              # THIS IS NOT CONCATENATION BUT WE USE IT A\n",
    "                                                                               # LOT TO PRINT VARIABLES IN A LINE"
   ]
  },
  {
   "cell_type": "code",
   "execution_count": 69,
   "id": "0dbe7f61",
   "metadata": {},
   "outputs": [
    {
     "data": {
      "text/plain": [
       "'Bhanukiran'"
      ]
     },
     "execution_count": 69,
     "metadata": {},
     "output_type": "execute_result"
    }
   ],
   "source": [
    "last_name"
   ]
  },
  {
   "cell_type": "code",
   "execution_count": 70,
   "id": "eb085bfa",
   "metadata": {},
   "outputs": [
    {
     "data": {
      "text/plain": [
       "'hanu'"
      ]
     },
     "execution_count": 70,
     "metadata": {},
     "output_type": "execute_result"
    }
   ],
   "source": [
    "last_name[1:5]"
   ]
  },
  {
   "cell_type": "code",
   "execution_count": 71,
   "id": "3c297e08",
   "metadata": {},
   "outputs": [
    {
     "data": {
      "text/plain": [
       "'Bhanukira'"
      ]
     },
     "execution_count": 71,
     "metadata": {},
     "output_type": "execute_result"
    }
   ],
   "source": [
    "last_name[:-1]                                                                  # EXCEPT LAST ELEMENT, SINCE INDEXING WILL \n",
    "                                                                                # START FROM -1 FROM RIGHT END"
   ]
  },
  {
   "cell_type": "code",
   "execution_count": 72,
   "id": "b1afb3ec",
   "metadata": {},
   "outputs": [
    {
     "data": {
      "text/plain": [
       "'hanukiran'"
      ]
     },
     "execution_count": 72,
     "metadata": {},
     "output_type": "execute_result"
    }
   ],
   "source": [
    "last_name[1:]"
   ]
  },
  {
   "cell_type": "code",
   "execution_count": 73,
   "id": "94992862",
   "metadata": {},
   "outputs": [
    {
     "data": {
      "text/plain": [
       "'Bauia'"
      ]
     },
     "execution_count": 73,
     "metadata": {},
     "output_type": "execute_result"
    }
   ],
   "source": [
    "last_name[::2]                                                                   # ONE BY ONE (INTERVALS OF 2)"
   ]
  },
  {
   "cell_type": "code",
   "execution_count": 74,
   "id": "7b9c6aa5",
   "metadata": {},
   "outputs": [
    {
     "data": {
      "text/plain": [
       "'narikunahB'"
      ]
     },
     "execution_count": 74,
     "metadata": {},
     "output_type": "execute_result"
    }
   ],
   "source": [
    "last_name[::-1]                                                                  # REVERSE (INTERVALS OF -1)"
   ]
  },
  {
   "cell_type": "markdown",
   "id": "f296de88",
   "metadata": {},
   "source": [
    "## 2.3 Manipulate String with Methods\n",
    "\n",
    "Terminology Alert:\n",
    "\n",
    "Methods/Functions - Similar.\n",
    "\n",
    "1. When anything which is enclosed within ().\n",
    "2. It performs some operation on top of the variable."
   ]
  },
  {
   "cell_type": "code",
   "execution_count": 75,
   "id": "33bb09ad",
   "metadata": {},
   "outputs": [],
   "source": [
    "learner_1 = 'sarath'\n",
    "learner_2 = 'bhanu'\n",
    "learner_3 = '     shine'\n",
    "learner_4 = '         cat     '"
   ]
  },
  {
   "cell_type": "code",
   "execution_count": 76,
   "id": "b42d5fdf",
   "metadata": {},
   "outputs": [
    {
     "data": {
      "text/plain": [
       "17"
      ]
     },
     "execution_count": 76,
     "metadata": {},
     "output_type": "execute_result"
    }
   ],
   "source": [
    "len(learner_1)\n",
    "len(learner_2)\n",
    "len(learner_3)\n",
    "len(learner_4)                                                                             # PRINTED LENGTH OF LAST ONE"
   ]
  },
  {
   "cell_type": "code",
   "execution_count": 77,
   "id": "f8d95708",
   "metadata": {},
   "outputs": [
    {
     "name": "stdout",
     "output_type": "stream",
     "text": [
      "6\n",
      "5\n",
      "10\n",
      "17\n"
     ]
    }
   ],
   "source": [
    "print(len(learner_1))\n",
    "print(len(learner_2))\n",
    "print(len(learner_3))\n",
    "print(len(learner_4))"
   ]
  },
  {
   "cell_type": "code",
   "execution_count": 78,
   "id": "4a50c68c",
   "metadata": {},
   "outputs": [
    {
     "data": {
      "text/plain": [
       "'Sarath'"
      ]
     },
     "execution_count": 78,
     "metadata": {},
     "output_type": "execute_result"
    }
   ],
   "source": [
    "learner_1.capitalize()                                                                     # FIRST LETTER CAPITAL"
   ]
  },
  {
   "cell_type": "code",
   "execution_count": 79,
   "id": "2dc4d022",
   "metadata": {},
   "outputs": [
    {
     "data": {
      "text/plain": [
       "'bhanu'"
      ]
     },
     "execution_count": 79,
     "metadata": {},
     "output_type": "execute_result"
    }
   ],
   "source": [
    "learner_2.lower()                                                                         # CONVERT TO LOWER CASE"
   ]
  },
  {
   "cell_type": "code",
   "execution_count": 80,
   "id": "e7290a4a",
   "metadata": {},
   "outputs": [
    {
     "data": {
      "text/plain": [
       "'shine'"
      ]
     },
     "execution_count": 80,
     "metadata": {},
     "output_type": "execute_result"
    }
   ],
   "source": [
    "learner_3.lstrip()                                                                        # LEADING WHITE SPACES REMOVED"
   ]
  },
  {
   "cell_type": "code",
   "execution_count": 81,
   "id": "3363410d",
   "metadata": {},
   "outputs": [
    {
     "data": {
      "text/plain": [
       "'cat'"
      ]
     },
     "execution_count": 81,
     "metadata": {},
     "output_type": "execute_result"
    }
   ],
   "source": [
    "learner_4.strip()                                                                    # LEADING AND RAILING WHITE SPACES REMOVED"
   ]
  },
  {
   "cell_type": "code",
   "execution_count": 82,
   "id": "320c8db2",
   "metadata": {},
   "outputs": [
    {
     "data": {
      "text/plain": [
       "'CAT'"
      ]
     },
     "execution_count": 82,
     "metadata": {},
     "output_type": "execute_result"
    }
   ],
   "source": [
    "learner_4.strip().upper()                                                            # CHAIN METHODS (USING MORE THAN 1 METHODS)"
   ]
  },
  {
   "cell_type": "code",
   "execution_count": 83,
   "id": "1e7ab427",
   "metadata": {},
   "outputs": [
    {
     "data": {
      "text/plain": [
       "'         cat     '"
      ]
     },
     "execution_count": 83,
     "metadata": {},
     "output_type": "execute_result"
    }
   ],
   "source": [
    "learner_4"
   ]
  },
  {
   "cell_type": "code",
   "execution_count": 84,
   "id": "0349d920",
   "metadata": {},
   "outputs": [],
   "source": [
    "learner_4 = learner_4.strip().upper() "
   ]
  },
  {
   "cell_type": "code",
   "execution_count": 85,
   "id": "7181105f",
   "metadata": {},
   "outputs": [
    {
     "data": {
      "text/plain": [
       "'CAT'"
      ]
     },
     "execution_count": 85,
     "metadata": {},
     "output_type": "execute_result"
    }
   ],
   "source": [
    "learner_4"
   ]
  },
  {
   "cell_type": "code",
   "execution_count": 86,
   "id": "5c4515b0",
   "metadata": {},
   "outputs": [],
   "source": [
    "learner_1 = learner_1.capitalize()\n",
    "learner_2 = learner_2.lower()\n",
    "learner_3 = learner_3.lstrip()\n",
    "learner_4 = learner_4.strip().upper()"
   ]
  },
  {
   "cell_type": "code",
   "execution_count": 87,
   "id": "675e9bd1",
   "metadata": {},
   "outputs": [
    {
     "name": "stdout",
     "output_type": "stream",
     "text": [
      "6\n",
      "5\n",
      "5\n",
      "3\n"
     ]
    }
   ],
   "source": [
    "print(len(learner_1))\n",
    "print(len(learner_2))\n",
    "print(len(learner_3))\n",
    "print(len(learner_4))"
   ]
  },
  {
   "cell_type": "code",
   "execution_count": 88,
   "id": "8ef9042a",
   "metadata": {},
   "outputs": [
    {
     "name": "stdout",
     "output_type": "stream",
     "text": [
      "Sarath\n",
      "bhanu\n",
      "shine\n",
      "CAT\n"
     ]
    }
   ],
   "source": [
    "print(learner_1)\n",
    "print(learner_2)\n",
    "print(learner_3)\n",
    "print(learner_4)"
   ]
  },
  {
   "cell_type": "markdown",
   "id": "8ce3699f",
   "metadata": {},
   "source": [
    "## ===================================================================="
   ]
  },
  {
   "cell_type": "markdown",
   "id": "3455ddea",
   "metadata": {},
   "source": [
    "# DAILY TASK - 1 \n",
    "## EXPLORE ALL STRING FUNCTIONS AND COME UP WITH 2 EXAMPLES FOR EACH FUNCTION"
   ]
  },
  {
   "cell_type": "markdown",
   "id": "c082f9b9",
   "metadata": {},
   "source": [
    "# =========================================================="
   ]
  },
  {
   "cell_type": "markdown",
   "id": "46d51c32",
   "metadata": {},
   "source": [
    "## 2.4 Interact with User Inputs"
   ]
  },
  {
   "cell_type": "code",
   "execution_count": 89,
   "id": "3b5ee3d0",
   "metadata": {},
   "outputs": [
    {
     "name": "stdout",
     "output_type": "stream",
     "text": [
      "Password:\n"
     ]
    },
    {
     "data": {
      "text/plain": [
       "''"
      ]
     },
     "execution_count": 89,
     "metadata": {},
     "output_type": "execute_result"
    }
   ],
   "source": [
    "input('Password:')"
   ]
  },
  {
   "cell_type": "code",
   "execution_count": 90,
   "id": "4f214f0a",
   "metadata": {},
   "outputs": [
    {
     "name": "stdout",
     "output_type": "stream",
     "text": [
      "Password:\n"
     ]
    }
   ],
   "source": [
    "user_input = input('Password:')"
   ]
  },
  {
   "cell_type": "code",
   "execution_count": 91,
   "id": "ebefeb32",
   "metadata": {},
   "outputs": [
    {
     "ename": "IndexError",
     "evalue": "string index out of range",
     "output_type": "error",
     "traceback": [
      "\u001b[1;31m---------------------------------------------------------------------------\u001b[0m",
      "\u001b[1;31mIndexError\u001b[0m                                Traceback (most recent call last)",
      "Input \u001b[1;32mIn [91]\u001b[0m, in \u001b[0;36m<cell line: 1>\u001b[1;34m()\u001b[0m\n\u001b[1;32m----> 1\u001b[0m \u001b[38;5;28mprint\u001b[39m(\u001b[38;5;124m'\u001b[39m\u001b[38;5;124mpassword starts with\u001b[39m\u001b[38;5;124m'\u001b[39m,\u001b[43muser_input\u001b[49m\u001b[43m[\u001b[49m\u001b[38;5;241;43m0\u001b[39;49m\u001b[43m]\u001b[49m)\n",
      "\u001b[1;31mIndexError\u001b[0m: string index out of range"
     ]
    }
   ],
   "source": [
    "print('password starts with',user_input[0])"
   ]
  },
  {
   "cell_type": "markdown",
   "id": "e4b06577",
   "metadata": {},
   "source": [
    "## 2.5 Challenge - Get 2 inputs from the user and display it"
   ]
  },
  {
   "cell_type": "code",
   "execution_count": 92,
   "id": "3eba8b5e",
   "metadata": {},
   "outputs": [
    {
     "name": "stdout",
     "output_type": "stream",
     "text": [
      "First Name\n",
      "Last Name\n",
      "First Name-  Last Name- \n"
     ]
    }
   ],
   "source": [
    "f_name = input('First Name')\n",
    "l_name = input('Last Name')\n",
    "print('First Name-',f_name,'Last Name-',l_name)"
   ]
  },
  {
   "cell_type": "code",
   "execution_count": 93,
   "id": "f5d1b6c4",
   "metadata": {},
   "outputs": [
    {
     "name": "stdout",
     "output_type": "stream",
     "text": [
      "First Name\n",
      "Last Name\n",
      "First Name-  \n",
      "Last Name- \n"
     ]
    }
   ],
   "source": [
    "f_name = input('First Name')\n",
    "l_name = input('Last Name')\n",
    "print('First Name-',f_name,'\\nLast Name-',l_name)                                               # PYTHON ESCAPE CHARACTERS(\\n)"
   ]
  },
  {
   "cell_type": "markdown",
   "id": "b3cd5a75",
   "metadata": {},
   "source": [
    "## 2.6 Streamline the Print Statement  (PRINT FORMATING)"
   ]
  },
  {
   "cell_type": "code",
   "execution_count": 94,
   "id": "43dddf00",
   "metadata": {},
   "outputs": [
    {
     "name": "stdout",
     "output_type": "stream",
     "text": [
      "First Name -  and Last Name - \n"
     ]
    }
   ],
   "source": [
    "print('First Name - {} and Last Name - {}'.format(f_name,l_name))                               # PLACE HOLDERS"
   ]
  },
  {
   "cell_type": "code",
   "execution_count": 95,
   "id": "345b6e33",
   "metadata": {},
   "outputs": [
    {
     "name": "stdout",
     "output_type": "stream",
     "text": [
      "First Name -  and Last Name - \n"
     ]
    }
   ],
   "source": [
    "print('First Name - {} and Last Name - {}'.format(l_name,f_name))                               # Interchanging Place Holders"
   ]
  },
  {
   "cell_type": "code",
   "execution_count": 96,
   "id": "c156aced",
   "metadata": {},
   "outputs": [
    {
     "name": "stdout",
     "output_type": "stream",
     "text": [
      "First Name -  and Last Name - \n"
     ]
    }
   ],
   "source": [
    "print('First Name - {lname} and Last Name - {fname}'.format(lname = l_name,fname = f_name))  "
   ]
  },
  {
   "cell_type": "markdown",
   "id": "c0aaa016",
   "metadata": {},
   "source": [
    "# ============================================================"
   ]
  },
  {
   "cell_type": "markdown",
   "id": "d0f2e54d",
   "metadata": {},
   "source": [
    "## Chapter 3 - Numbers in Python"
   ]
  },
  {
   "cell_type": "code",
   "execution_count": 97,
   "id": "4188ba58",
   "metadata": {},
   "outputs": [
    {
     "name": "stdout",
     "output_type": "stream",
     "text": [
      "Enter your marks:\n",
      "The marks you entered is \n"
     ]
    }
   ],
   "source": [
    "user_marks = input('Enter your marks:')\n",
    "print('The marks you entered is', user_marks)"
   ]
  },
  {
   "cell_type": "code",
   "execution_count": 98,
   "id": "b340d03b",
   "metadata": {},
   "outputs": [
    {
     "data": {
      "text/plain": [
       "str"
      ]
     },
     "execution_count": 98,
     "metadata": {},
     "output_type": "execute_result"
    }
   ],
   "source": [
    "type(user_marks)"
   ]
  },
  {
   "cell_type": "code",
   "execution_count": 99,
   "id": "70ce35cc",
   "metadata": {},
   "outputs": [
    {
     "name": "stdout",
     "output_type": "stream",
     "text": [
      "Enter your marks:\n"
     ]
    },
    {
     "ename": "ValueError",
     "evalue": "invalid literal for int() with base 10: ''",
     "output_type": "error",
     "traceback": [
      "\u001b[1;31m---------------------------------------------------------------------------\u001b[0m",
      "\u001b[1;31mValueError\u001b[0m                                Traceback (most recent call last)",
      "Input \u001b[1;32mIn [99]\u001b[0m, in \u001b[0;36m<cell line: 1>\u001b[1;34m()\u001b[0m\n\u001b[1;32m----> 1\u001b[0m user_marks \u001b[38;5;241m=\u001b[39m \u001b[38;5;28;43mint\u001b[39;49m\u001b[43m(\u001b[49m\u001b[38;5;28;43minput\u001b[39;49m\u001b[43m(\u001b[49m\u001b[38;5;124;43m'\u001b[39;49m\u001b[38;5;124;43mEnter your marks:\u001b[39;49m\u001b[38;5;124;43m'\u001b[39;49m\u001b[43m)\u001b[49m\u001b[43m)\u001b[49m\n\u001b[0;32m      2\u001b[0m \u001b[38;5;28mprint\u001b[39m(\u001b[38;5;124m'\u001b[39m\u001b[38;5;124mThe marks you entered is\u001b[39m\u001b[38;5;124m'\u001b[39m, \u001b[38;5;28mabs\u001b[39m(user_marks))\n",
      "\u001b[1;31mValueError\u001b[0m: invalid literal for int() with base 10: ''"
     ]
    }
   ],
   "source": [
    "user_marks = int(input('Enter your marks:'))\n",
    "print('The marks you entered is', abs(user_marks))"
   ]
  },
  {
   "cell_type": "code",
   "execution_count": null,
   "id": "b90334ec",
   "metadata": {},
   "outputs": [],
   "source": []
  },
  {
   "cell_type": "code",
   "execution_count": null,
   "id": "14fd170d",
   "metadata": {},
   "outputs": [],
   "source": []
  },
  {
   "cell_type": "code",
   "execution_count": null,
   "id": "7ca4911e",
   "metadata": {},
   "outputs": [],
   "source": []
  },
  {
   "cell_type": "code",
   "execution_count": null,
   "id": "4301f2d3",
   "metadata": {},
   "outputs": [],
   "source": []
  },
  {
   "cell_type": "code",
   "execution_count": 100,
   "id": "9cc5560a",
   "metadata": {},
   "outputs": [],
   "source": [
    "def get_message():\n",
    "    print('welcome')"
   ]
  },
  {
   "cell_type": "code",
   "execution_count": 101,
   "id": "66a9316e",
   "metadata": {},
   "outputs": [
    {
     "name": "stdout",
     "output_type": "stream",
     "text": [
      "welcome\n"
     ]
    }
   ],
   "source": [
    "get_message()"
   ]
  },
  {
   "cell_type": "markdown",
   "id": "8d19140a",
   "metadata": {},
   "source": [
    "### Positional Arguments"
   ]
  },
  {
   "cell_type": "code",
   "execution_count": 102,
   "id": "7badc6f2",
   "metadata": {},
   "outputs": [],
   "source": [
    "def perform_addition(num1,num2,num3):\n",
    "    print(num1+num2+num3)"
   ]
  },
  {
   "cell_type": "code",
   "execution_count": 103,
   "id": "613fa3fb",
   "metadata": {},
   "outputs": [
    {
     "name": "stdout",
     "output_type": "stream",
     "text": [
      "796\n"
     ]
    }
   ],
   "source": [
    "perform_addition(55,85,656)"
   ]
  },
  {
   "cell_type": "markdown",
   "id": "5f8e9185",
   "metadata": {},
   "source": [
    "### Default Positional Arguments"
   ]
  },
  {
   "cell_type": "code",
   "execution_count": 104,
   "id": "64e61e6a",
   "metadata": {},
   "outputs": [],
   "source": [
    "def get_employee_details(name,age,salary,organisation = 'IBM'):              # LAST ARGUMENT IS DEFAULT('IBM')\n",
    "    print('*******************************')\n",
    "    print('Learner Name :',name)\n",
    "    print('Age          :',age)\n",
    "    print('Salary       :',salary)\n",
    "    print('Organisation :',organisation)\n",
    "    print('*******************************')"
   ]
  },
  {
   "cell_type": "code",
   "execution_count": 105,
   "id": "64319f48",
   "metadata": {},
   "outputs": [
    {
     "name": "stdout",
     "output_type": "stream",
     "text": [
      "*******************************\n",
      "Learner Name : Abhi\n",
      "Age          : 24\n",
      "Salary       : 25000\n",
      "Organisation : IBM\n",
      "*******************************\n"
     ]
    }
   ],
   "source": [
    "get_employee_details('Abhi',24,25000)"
   ]
  },
  {
   "cell_type": "code",
   "execution_count": 106,
   "id": "4c88f85d",
   "metadata": {},
   "outputs": [
    {
     "name": "stdout",
     "output_type": "stream",
     "text": [
      "*******************************\n",
      "Learner Name : Bhanu\n",
      "Age          : 24\n",
      "Salary       : 28000\n",
      "Organisation : IBM\n",
      "*******************************\n"
     ]
    }
   ],
   "source": [
    "get_employee_details('Bhanu',24,28000)"
   ]
  },
  {
   "cell_type": "code",
   "execution_count": 107,
   "id": "46aa797b",
   "metadata": {},
   "outputs": [
    {
     "name": "stdout",
     "output_type": "stream",
     "text": [
      "*******************************\n",
      "Learner Name : Kiran\n",
      "Age          : 24\n",
      "Salary       : 28000\n",
      "Organisation : Google\n",
      "*******************************\n"
     ]
    }
   ],
   "source": [
    "get_employee_details('Kiran',24,28000,'Google')                   \n",
    "                                           # DEFAULT ARGUMENTS ARE OVERWRITTEN WHEN CALLING THE FUNCTIONS BY PASSING PARAMETERS"
   ]
  },
  {
   "cell_type": "code",
   "execution_count": 108,
   "id": "985447ae",
   "metadata": {},
   "outputs": [
    {
     "name": "stdout",
     "output_type": "stream",
     "text": [
      "*******************************\n",
      "Learner Name : Bhanu\n",
      "Age          : 24\n",
      "Salary       : 28000\n",
      "Organisation : IBM\n",
      "*******************************\n"
     ]
    }
   ],
   "source": [
    "get_employee_details('Bhanu',24,28000)"
   ]
  },
  {
   "cell_type": "markdown",
   "id": "5e8a6a6e",
   "metadata": {},
   "source": [
    "### To get information from the user, No Arguments are made and No Parameters are passed."
   ]
  },
  {
   "cell_type": "code",
   "execution_count": 109,
   "id": "32f35b44",
   "metadata": {},
   "outputs": [],
   "source": [
    "def get_employee_details_2(): \n",
    "    user_name    = input('Enter your Name :')\n",
    "    age          = input('Age             :')\n",
    "    salary       = input('Salary          :')\n",
    "    organisation = input('Organisation :')\n",
    "    print('*******************************')\n",
    "    print('Learner Name :',user_name)\n",
    "    print('Age          :',age)\n",
    "    print('Salary       :',salary)\n",
    "    print('Organisation :',organisation)\n",
    "    print('*******************************')"
   ]
  },
  {
   "cell_type": "code",
   "execution_count": 110,
   "id": "d3c3f6f9",
   "metadata": {},
   "outputs": [
    {
     "name": "stdout",
     "output_type": "stream",
     "text": [
      "Enter your Name :\n",
      "Age             :\n",
      "Salary          :\n",
      "Organisation :\n",
      "*******************************\n",
      "Learner Name : \n",
      "Age          : \n",
      "Salary       : \n",
      "Organisation : \n",
      "*******************************\n"
     ]
    }
   ],
   "source": [
    "get_employee_details_2()"
   ]
  },
  {
   "cell_type": "markdown",
   "id": "7fd86c67",
   "metadata": {},
   "source": [
    "### Last Argument is variable length Argument. (Integers, Floats, Chars, String) (* is used in Pandas Library)"
   ]
  },
  {
   "cell_type": "code",
   "execution_count": 111,
   "id": "7cc002aa",
   "metadata": {},
   "outputs": [],
   "source": [
    "def get_employee_details_3(name, age, salary, *organisation):             \n",
    "    print('*******************************')\n",
    "    print('Learner Name :',name)\n",
    "    print('Age          :',age)\n",
    "    print('Salary       :',salary)\n",
    "    print('Organisation :',organisation)\n",
    "    print('*******************************')"
   ]
  },
  {
   "cell_type": "code",
   "execution_count": 112,
   "id": "98f69780",
   "metadata": {},
   "outputs": [
    {
     "name": "stdout",
     "output_type": "stream",
     "text": [
      "*******************************\n",
      "Learner Name : Ajith\n",
      "Age          : 35\n",
      "Salary       : 30000\n",
      "Organisation : ('IBM', 'Microsoft', 'Dell')\n",
      "*******************************\n"
     ]
    }
   ],
   "source": [
    "get_employee_details_3('Ajith',35,30000,'IBM','Microsoft','Dell')"
   ]
  },
  {
   "cell_type": "markdown",
   "id": "a2c741a7",
   "metadata": {},
   "source": [
    "### Last Argument is Key-Value Pair Variable Length Arguments (** is used)"
   ]
  },
  {
   "cell_type": "code",
   "execution_count": 113,
   "id": "dedf1537",
   "metadata": {},
   "outputs": [],
   "source": [
    "def get_employee_details_4(name, age, salary, **organisation):             \n",
    "    print('*******************************')\n",
    "    print('Learner Name :',name)\n",
    "    print('Age          :',age)\n",
    "    print('Salary       :',salary)\n",
    "    print('Organisation :',organisation)\n",
    "    print('*******************************')"
   ]
  },
  {
   "cell_type": "code",
   "execution_count": 114,
   "id": "c019b980",
   "metadata": {},
   "outputs": [
    {
     "name": "stdout",
     "output_type": "stream",
     "text": [
      "*******************************\n",
      "Learner Name : Ajith\n",
      "Age          : 35\n",
      "Salary       : 30000\n",
      "Organisation : {'company_1': 'IBM', 'company_2': 'Microsoft', 'company_3': 'Dell'}\n",
      "*******************************\n"
     ]
    }
   ],
   "source": [
    "get_employee_details_4('Ajith',35,30000, company_1 ='IBM', company_2 ='Microsoft', company_3 ='Dell')"
   ]
  },
  {
   "cell_type": "markdown",
   "id": "37dafc9b",
   "metadata": {},
   "source": [
    "### Last is Key-Value and One Before is Tuple/list\n",
    "#### only one key value and one list is used and order is imp."
   ]
  },
  {
   "cell_type": "code",
   "execution_count": 115,
   "id": "268f060b",
   "metadata": {},
   "outputs": [],
   "source": [
    "def get_employee_details_5(name, age, *salary, **organisation):             \n",
    "    print('*******************************')\n",
    "    print('Learner Name :',name)\n",
    "    print('Age          :',age)\n",
    "    print('Salary       :',salary)\n",
    "    print('Organisation :',organisation)\n",
    "    print('*******************************')"
   ]
  },
  {
   "cell_type": "code",
   "execution_count": 116,
   "id": "1ec24eee",
   "metadata": {},
   "outputs": [
    {
     "name": "stdout",
     "output_type": "stream",
     "text": [
      "*******************************\n",
      "Learner Name : Ajith\n",
      "Age          : 35\n",
      "Salary       : (30000, 45000, 30000)\n",
      "Organisation : {'company_1': 'IBM', 'company_2': 'Microsoft', 'company_3': 'Dell'}\n",
      "*******************************\n"
     ]
    }
   ],
   "source": [
    "get_employee_details_5('Ajith',35,30000, 45000, 30000, company_1 ='IBM', company_2 ='Microsoft', company_3 ='Dell')"
   ]
  },
  {
   "cell_type": "markdown",
   "id": "c8efe7bb",
   "metadata": {},
   "source": [
    "### Termination Point to a Function is Return Statement (Diff. b/w Print and Return)\n",
    "#### Return Statement plays a key role in high end IDEs, so that when we call that function it will make changes to the data and there we need not print anything.\n",
    "#### A Function will have only one return statement, if more than one, then it will terminate at first return\n",
    "#### A Function can have multiple print functions but not multiple return statements"
   ]
  },
  {
   "cell_type": "code",
   "execution_count": 117,
   "id": "66d2e1fe",
   "metadata": {},
   "outputs": [],
   "source": [
    "def perform_multiplication(num1,num2):\n",
    "    return num1\n",
    "    return num1*num2"
   ]
  },
  {
   "cell_type": "code",
   "execution_count": 118,
   "id": "3789337e",
   "metadata": {},
   "outputs": [
    {
     "data": {
      "text/plain": [
       "5"
      ]
     },
     "execution_count": 118,
     "metadata": {},
     "output_type": "execute_result"
    }
   ],
   "source": [
    "perform_multiplication(5,6)"
   ]
  },
  {
   "cell_type": "code",
   "execution_count": 119,
   "id": "4402e170",
   "metadata": {},
   "outputs": [],
   "source": [
    "def perform_multiplication(num1,num2):\n",
    "    return num1*num2"
   ]
  },
  {
   "cell_type": "code",
   "execution_count": 120,
   "id": "fd8549f0",
   "metadata": {},
   "outputs": [
    {
     "data": {
      "text/plain": [
       "30"
      ]
     },
     "execution_count": 120,
     "metadata": {},
     "output_type": "execute_result"
    }
   ],
   "source": [
    "perform_multiplication(5,6)"
   ]
  },
  {
   "cell_type": "code",
   "execution_count": 121,
   "id": "2d6ac7e3",
   "metadata": {},
   "outputs": [],
   "source": [
    "def perform_multiplication(num1,num2):\n",
    "    print(num1*num2)\n",
    "    return num1*num2"
   ]
  },
  {
   "cell_type": "code",
   "execution_count": 122,
   "id": "38fe0106",
   "metadata": {},
   "outputs": [
    {
     "name": "stdout",
     "output_type": "stream",
     "text": [
      "30\n"
     ]
    },
    {
     "data": {
      "text/plain": [
       "30"
      ]
     },
     "execution_count": 122,
     "metadata": {},
     "output_type": "execute_result"
    }
   ],
   "source": [
    "perform_multiplication(5,6)"
   ]
  },
  {
   "cell_type": "markdown",
   "id": "bb000331",
   "metadata": {},
   "source": [
    "## 4.2 Run in Circles"
   ]
  },
  {
   "cell_type": "code",
   "execution_count": 123,
   "id": "e3020081",
   "metadata": {},
   "outputs": [
    {
     "data": {
      "text/plain": [
       "(1, 2, 3, 4, 5, 6, 7, 8, 9, 10)"
      ]
     },
     "execution_count": 123,
     "metadata": {},
     "output_type": "execute_result"
    }
   ],
   "source": [
    "(1,2,3,4,5,6,7,8,9,10)"
   ]
  },
  {
   "cell_type": "code",
   "execution_count": 124,
   "id": "d34c4ede",
   "metadata": {},
   "outputs": [
    {
     "name": "stdout",
     "output_type": "stream",
     "text": [
      "1\n",
      "2\n",
      "3\n",
      "4\n",
      "5\n",
      "6\n",
      "7\n",
      "8\n",
      "9\n"
     ]
    }
   ],
   "source": [
    "for i in range(1,10):    # FOR MORE NUMBERS WE USE (FOR LOOP) AND RANGE()\n",
    "    print(i)"
   ]
  },
  {
   "cell_type": "code",
   "execution_count": 125,
   "id": "174560ba",
   "metadata": {},
   "outputs": [
    {
     "name": "stdout",
     "output_type": "stream",
     "text": [
      "2\n",
      "4\n",
      "6\n",
      "8\n",
      "10\n"
     ]
    }
   ],
   "source": [
    "for i in range(2,11,2):    \n",
    "    print(i)"
   ]
  },
  {
   "cell_type": "markdown",
   "id": "27fb28aa",
   "metadata": {},
   "source": [
    "## 4.3 Create a User Defined Function with for loop"
   ]
  },
  {
   "cell_type": "code",
   "execution_count": 126,
   "id": "1b17c6c2",
   "metadata": {},
   "outputs": [],
   "source": [
    "def get_name(name):\n",
    "    for i in name:\n",
    "        print(i)\n",
    "    return 'FUNCTION TERMINATED'"
   ]
  },
  {
   "cell_type": "code",
   "execution_count": 127,
   "id": "cfee73dd",
   "metadata": {},
   "outputs": [
    {
     "name": "stdout",
     "output_type": "stream",
     "text": [
      "A\n",
      "n\n",
      "t\n",
      "o\n",
      "n\n",
      "y\n"
     ]
    },
    {
     "data": {
      "text/plain": [
       "'FUNCTION TERMINATED'"
      ]
     },
     "execution_count": 127,
     "metadata": {},
     "output_type": "execute_result"
    }
   ],
   "source": [
    "get_name('Antony')"
   ]
  },
  {
   "cell_type": "markdown",
   "id": "f0c34e8f",
   "metadata": {},
   "source": [
    "# ========================================================="
   ]
  },
  {
   "cell_type": "markdown",
   "id": "b5605578",
   "metadata": {},
   "source": [
    "# Chapter 5 - Conditional Logics"
   ]
  },
  {
   "cell_type": "markdown",
   "id": "11e3ed99",
   "metadata": {},
   "source": [
    "## 5.1 Compare Values"
   ]
  },
  {
   "cell_type": "code",
   "execution_count": 128,
   "id": "ebd54fb8",
   "metadata": {},
   "outputs": [
    {
     "data": {
      "text/plain": [
       "False"
      ]
     },
     "execution_count": 128,
     "metadata": {},
     "output_type": "execute_result"
    }
   ],
   "source": [
    "5 =='5'"
   ]
  },
  {
   "cell_type": "code",
   "execution_count": 129,
   "id": "2c04db37",
   "metadata": {},
   "outputs": [
    {
     "data": {
      "text/plain": [
       "True"
      ]
     },
     "execution_count": 129,
     "metadata": {},
     "output_type": "execute_result"
    }
   ],
   "source": [
    "5 == 5                                                                  # EQUALS TO OPERATOR (==)"
   ]
  },
  {
   "cell_type": "code",
   "execution_count": 130,
   "id": "c9d2bbbe",
   "metadata": {},
   "outputs": [
    {
     "data": {
      "text/plain": [
       "False"
      ]
     },
     "execution_count": 130,
     "metadata": {},
     "output_type": "execute_result"
    }
   ],
   "source": [
    "6 != 6                                                                  # NOT EQUALS TO OPERATOR (!=)"
   ]
  },
  {
   "cell_type": "code",
   "execution_count": 131,
   "id": "a696a6ce",
   "metadata": {},
   "outputs": [
    {
     "data": {
      "text/plain": [
       "2.0"
      ]
     },
     "execution_count": 131,
     "metadata": {},
     "output_type": "execute_result"
    }
   ],
   "source": [
    "10/5                                                                    # QUOTIENT OPERATOR (/)"
   ]
  },
  {
   "cell_type": "code",
   "execution_count": 132,
   "id": "53b8fc89",
   "metadata": {},
   "outputs": [
    {
     "data": {
      "text/plain": [
       "1"
      ]
     },
     "execution_count": 132,
     "metadata": {},
     "output_type": "execute_result"
    }
   ],
   "source": [
    "11%2                                                                    # REMAINDER OPERATOR (%)"
   ]
  },
  {
   "cell_type": "code",
   "execution_count": 133,
   "id": "21c4ea5d",
   "metadata": {},
   "outputs": [
    {
     "data": {
      "text/plain": [
       "False"
      ]
     },
     "execution_count": 133,
     "metadata": {},
     "output_type": "execute_result"
    }
   ],
   "source": [
    "53%2 == 0"
   ]
  },
  {
   "cell_type": "markdown",
   "id": "3921338e",
   "metadata": {},
   "source": [
    "## 5.2 Add some logics"
   ]
  },
  {
   "cell_type": "code",
   "execution_count": 134,
   "id": "2d7fb0aa",
   "metadata": {},
   "outputs": [],
   "source": [
    "machine_learning = 98\n",
    "deep_learning = 96\n",
    "nlp = 95"
   ]
  },
  {
   "cell_type": "code",
   "execution_count": 135,
   "id": "3ba41950",
   "metadata": {},
   "outputs": [
    {
     "data": {
      "text/plain": [
       "True"
      ]
     },
     "execution_count": 135,
     "metadata": {},
     "output_type": "execute_result"
    }
   ],
   "source": [
    "machine_learning > deep_learning"
   ]
  },
  {
   "cell_type": "code",
   "execution_count": 136,
   "id": "1382c5ea",
   "metadata": {},
   "outputs": [
    {
     "data": {
      "text/plain": [
       "True"
      ]
     },
     "execution_count": 136,
     "metadata": {},
     "output_type": "execute_result"
    }
   ],
   "source": [
    "nlp < deep_learning"
   ]
  },
  {
   "cell_type": "code",
   "execution_count": 137,
   "id": "46ea8217",
   "metadata": {},
   "outputs": [
    {
     "data": {
      "text/plain": [
       "False"
      ]
     },
     "execution_count": 137,
     "metadata": {},
     "output_type": "execute_result"
    }
   ],
   "source": [
    "machine_learning > deep_learning and nlp > deep_learning                           # AND OPERATOR"
   ]
  },
  {
   "cell_type": "code",
   "execution_count": 138,
   "id": "9f6234b7",
   "metadata": {},
   "outputs": [
    {
     "data": {
      "text/plain": [
       "True"
      ]
     },
     "execution_count": 138,
     "metadata": {},
     "output_type": "execute_result"
    }
   ],
   "source": [
    "machine_learning > deep_learning or nlp > deep_learning                           # OR OPERATOR"
   ]
  },
  {
   "cell_type": "code",
   "execution_count": 139,
   "id": "0f460d09",
   "metadata": {},
   "outputs": [
    {
     "data": {
      "text/plain": [
       "False"
      ]
     },
     "execution_count": 139,
     "metadata": {},
     "output_type": "execute_result"
    }
   ],
   "source": [
    "learner_1\n",
    "'y' in learner_1"
   ]
  },
  {
   "cell_type": "code",
   "execution_count": 140,
   "id": "bb194cab",
   "metadata": {},
   "outputs": [
    {
     "data": {
      "text/plain": [
       "True"
      ]
     },
     "execution_count": 140,
     "metadata": {},
     "output_type": "execute_result"
    }
   ],
   "source": [
    "feedback = 'Python session with daily tasks is getting me better'\n",
    "'better' in feedback"
   ]
  },
  {
   "cell_type": "code",
   "execution_count": 141,
   "id": "0ea57659",
   "metadata": {},
   "outputs": [
    {
     "data": {
      "text/plain": [
       "False"
      ]
     },
     "execution_count": 141,
     "metadata": {},
     "output_type": "execute_result"
    }
   ],
   "source": [
    "'better' not in feedback"
   ]
  },
  {
   "cell_type": "markdown",
   "id": "ad59606a",
   "metadata": {},
   "source": [
    "## 5.3 Control the flow of the program"
   ]
  },
  {
   "cell_type": "code",
   "execution_count": 143,
   "id": "6743c9ab",
   "metadata": {},
   "outputs": [
    {
     "name": "stdout",
     "output_type": "stream",
     "text": [
      "Enter your Password :asdfg\n",
      "STRONG PASSWORD\n"
     ]
    }
   ],
   "source": [
    "user_password = input('Enter your Password :')\n",
    "if len(user_password) < 5:\n",
    "    print('WEAK PASSWORD')\n",
    "else:\n",
    "    print('STRONG PASSWORD')"
   ]
  },
  {
   "cell_type": "code",
   "execution_count": 145,
   "id": "c83b94c8",
   "metadata": {},
   "outputs": [
    {
     "name": "stdout",
     "output_type": "stream",
     "text": [
      "Enter your Password :ASDFGH\n",
      "MODERATE PASSWORD\n"
     ]
    }
   ],
   "source": [
    "user_password = input('Enter your Password :')\n",
    "if len(user_password) < 5:\n",
    "    print('WEAK PASSWORD')\n",
    "elif 5 < len(user_password) < 8:\n",
    "    print('MODERATE PASSWORD')\n",
    "else:\n",
    "    print('STRONG PASSWORD')"
   ]
  },
  {
   "cell_type": "markdown",
   "id": "4c379bdb",
   "metadata": {},
   "source": [
    "## 5.4 Challenge - Find the factors of a number"
   ]
  },
  {
   "cell_type": "markdown",
   "id": "cd53a084",
   "metadata": {},
   "source": [
    "## 5.5 Break out of the Pattern and Continue ignoring"
   ]
  },
  {
   "cell_type": "code",
   "execution_count": 148,
   "id": "582fdffc",
   "metadata": {},
   "outputs": [
    {
     "name": "stdout",
     "output_type": "stream",
     "text": [
      "1\n",
      "2\n",
      "3\n",
      "4\n"
     ]
    }
   ],
   "source": [
    "for i in range(1,8):\n",
    "    if i == 5:\n",
    "        break\n",
    "    print(i)"
   ]
  },
  {
   "cell_type": "code",
   "execution_count": 149,
   "id": "40d2dfd1",
   "metadata": {},
   "outputs": [
    {
     "name": "stdout",
     "output_type": "stream",
     "text": [
      "1\n",
      "2\n",
      "3\n",
      "4\n",
      "6\n",
      "7\n"
     ]
    }
   ],
   "source": [
    "for i in range(1,8):\n",
    "    if i == 5:\n",
    "        continue\n",
    "    print(i)"
   ]
  },
  {
   "cell_type": "code",
   "execution_count": 156,
   "id": "81c8e49c",
   "metadata": {},
   "outputs": [
    {
     "name": "stdout",
     "output_type": "stream",
     "text": [
      "Type q to quit this windowg\n",
      "Type q to quit this windowQ\n"
     ]
    }
   ],
   "source": [
    "while True:\n",
    "    user_input = input('Type q to quit this window')\n",
    "    if user_input.lower() =='q':\n",
    "        break"
   ]
  },
  {
   "cell_type": "code",
   "execution_count": null,
   "id": "e33f993e",
   "metadata": {},
   "outputs": [],
   "source": []
  },
  {
   "cell_type": "code",
   "execution_count": null,
   "id": "b152beb7",
   "metadata": {},
   "outputs": [],
   "source": []
  }
 ],
 "metadata": {
  "kernelspec": {
   "display_name": "Python 3 (ipykernel)",
   "language": "python",
   "name": "python3"
  },
  "language_info": {
   "codemirror_mode": {
    "name": "ipython",
    "version": 3
   },
   "file_extension": ".py",
   "mimetype": "text/x-python",
   "name": "python",
   "nbconvert_exporter": "python",
   "pygments_lexer": "ipython3",
   "version": "3.9.12"
  }
 },
 "nbformat": 4,
 "nbformat_minor": 5
}
